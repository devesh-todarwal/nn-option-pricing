{
 "cells": [
  {
   "cell_type": "code",
   "execution_count": 1,
   "metadata": {},
   "outputs": [],
   "source": [
    "import numpy as np\n",
    "import pandas as pd\n",
    "from scipy.stats import norm"
   ]
  },
  {
   "cell_type": "code",
   "execution_count": 4,
   "metadata": {},
   "outputs": [],
   "source": [
    "df = pd.read_csv('daily-closing-prices.csv')"
   ]
  },
  {
   "cell_type": "code",
   "execution_count": 5,
   "metadata": {},
   "outputs": [],
   "source": [
    "estimate_σ = lambda arr: (np.diff(arr) / arr[:-1]).std()"
   ]
  },
  {
   "cell_type": "code",
   "execution_count": 6,
   "metadata": {},
   "outputs": [
    {
     "name": "stderr",
     "output_type": "stream",
     "text": [
      "C:\\Users\\Alex Ke\\Anaconda3\\lib\\site-packages\\ipykernel_launcher.py:1: FutureWarning: Currently, 'apply' passes the values as ndarrays to the applied function. In the future, this will change to passing it as Series objects. You need to specify 'raw=True' to keep the current behaviour, and you can pass 'raw=False' to silence this warning\n",
      "  \"\"\"Entry point for launching an IPython kernel.\n"
     ]
    }
   ],
   "source": [
    "df['sigma_20'] = df.close.rolling(20).apply(estimate_σ)"
   ]
  },
  {
   "cell_type": "code",
   "execution_count": 7,
   "metadata": {},
   "outputs": [],
   "source": [
    "date_sigma = df.drop(['close'], axis=1)"
   ]
  },
  {
   "cell_type": "code",
   "execution_count": 8,
   "metadata": {},
   "outputs": [],
   "source": [
    "options_df = pd.read_csv('options-df.csv').drop(['impl_volatility', 'exdate'], axis=1)"
   ]
  },
  {
   "cell_type": "code",
   "execution_count": 7,
   "metadata": {},
   "outputs": [],
   "source": [
    "options_df_with_sigma = options_df.set_index('date').join(date_sigma.set_index('date'))"
   ]
  },
  {
   "cell_type": "code",
   "execution_count": 8,
   "metadata": {},
   "outputs": [],
   "source": [
    "options_df_new = options_df_with_sigma.dropna(axis=0)"
   ]
  },
  {
   "cell_type": "code",
   "execution_count": 9,
   "metadata": {},
   "outputs": [],
   "source": [
    "options_df_new_put = options_df_new[options_df_new.cp_flag == 'P'].drop(['cp_flag'], axis=1)"
   ]
  },
  {
   "cell_type": "code",
   "execution_count": 56,
   "metadata": {},
   "outputs": [],
   "source": [
    "options_df_new_call = options_df_new[options_df_new.cp_flag == 'C'].drop(['cp_flag'], axis=1)"
   ]
  },
  {
   "cell_type": "code",
   "execution_count": 10,
   "metadata": {},
   "outputs": [],
   "source": [
    "def black_scholes_put(row):\n",
    "    S = row.closing_price\n",
    "    X = row.strike_price / 1000\n",
    "    T = row.date_ndiff / 365\n",
    "    r = row.treasury_rate / 100\n",
    "    σ = row.sigma_20\n",
    "    d1 = (np.log(S / X) + (r + (σ ** 2) / 2) * T) / (σ * (T ** .5))\n",
    "    d2 = d1 - σ * (T ** .5)\n",
    "    P  = norm.cdf(-d2) * X * np.exp(-r * T) - S * norm.cdf(-d1)\n",
    "    return P"
   ]
  },
  {
   "cell_type": "code",
   "execution_count": 87,
   "metadata": {},
   "outputs": [],
   "source": [
    "def black_scholes(row):\n",
    "    S = row.closing_price\n",
    "    X = row.strike_price / 1000\n",
    "    T = row.date_ndiff / 365\n",
    "    r = row.treasury_rate / 100\n",
    "    σ = row.sigma_20\n",
    "    d1 = (np.log(S / X) + (r + (σ ** 2) / 2) * T) / (σ * (T ** .5))\n",
    "    d2 = d1 - σ * (T ** .5)\n",
    "    C = S * norm.cdf(d1) - X * np.exp(-r * T) * norm.cdf(d2)\n",
    "    return C"
   ]
  },
  {
   "cell_type": "code",
   "execution_count": 97,
   "metadata": {},
   "outputs": [],
   "source": [
    "options_df_new_call_small = options_df_new_call[:10].drop('black_scholes_pred', axis=1)\n",
    "options_df_new_call_small['black_scholes_small'] = options_df_new_call_small.apply(lambda r: black_scholes(r), axis=1)"
   ]
  },
  {
   "cell_type": "code",
   "execution_count": 158,
   "metadata": {},
   "outputs": [],
   "source": [
    "mse = lambda df, pred_col: np.sum(np.square(df[['best_bid', 'best_offer']].mean(axis=1) - df[pred_col])) / df.shape[0]"
   ]
  },
  {
   "cell_type": "code",
   "execution_count": 145,
   "metadata": {
    "scrolled": true
   },
   "outputs": [],
   "source": [
    "# options_df_new_call['black_scholes_pred'] = options_df_new_call.apply(lambda row: black_scholes(row), axis=1)"
   ]
  },
  {
   "cell_type": "code",
   "execution_count": 181,
   "metadata": {},
   "outputs": [
    {
     "data": {
      "text/plain": [
       "635.0934818101911"
      ]
     },
     "execution_count": 181,
     "metadata": {},
     "output_type": "execute_result"
    }
   ],
   "source": [
    "mse(options_df_new_call, 'black_scholes_pred')"
   ]
  },
  {
   "cell_type": "code",
   "execution_count": 183,
   "metadata": {},
   "outputs": [],
   "source": [
    "med_abs_err = lambda df, pred_col: (np.abs(df[['best_bid', 'best_offer']].mean(axis=1) - df[pred_col])).iloc[df.shape[0]//2]"
   ]
  },
  {
   "cell_type": "code",
   "execution_count": 184,
   "metadata": {},
   "outputs": [
    {
     "data": {
      "text/plain": [
       "24.75583508250861"
      ]
     },
     "execution_count": 184,
     "metadata": {},
     "output_type": "execute_result"
    }
   ],
   "source": [
    "med_abs_err(options_df_new_call, 'black_scholes_pred')"
   ]
  },
  {
   "cell_type": "code",
   "execution_count": 185,
   "metadata": {},
   "outputs": [
    {
     "data": {
      "text/plain": [
       "(6131354, 10)"
      ]
     },
     "execution_count": 185,
     "metadata": {},
     "output_type": "execute_result"
    }
   ],
   "source": [
    "options_df_new_call.shape"
   ]
  },
  {
   "cell_type": "code",
   "execution_count": 187,
   "metadata": {},
   "outputs": [],
   "source": [
    "options_df_new_call.to_csv('data/call-options-black-scholes.csv')"
   ]
  },
  {
   "cell_type": "code",
   "execution_count": 11,
   "metadata": {},
   "outputs": [
    {
     "name": "stderr",
     "output_type": "stream",
     "text": [
      "/Users/ycm/miniconda3/lib/python3.7/site-packages/ipykernel_launcher.py:7: RuntimeWarning: divide by zero encountered in double_scalars\n",
      "  import sys\n"
     ]
    }
   ],
   "source": [
    "options_df_new_put['black_scholes_pred'] = options_df_new_put.apply(lambda row: black_scholes_put(row), axis=1)"
   ]
  },
  {
   "cell_type": "code",
   "execution_count": 15,
   "metadata": {
    "scrolled": true
   },
   "outputs": [
    {
     "data": {
      "text/html": [
       "<div>\n",
       "<style scoped>\n",
       "    .dataframe tbody tr th:only-of-type {\n",
       "        vertical-align: middle;\n",
       "    }\n",
       "\n",
       "    .dataframe tbody tr th {\n",
       "        vertical-align: top;\n",
       "    }\n",
       "\n",
       "    .dataframe thead th {\n",
       "        text-align: right;\n",
       "    }\n",
       "</style>\n",
       "<table border=\"1\" class=\"dataframe\">\n",
       "  <thead>\n",
       "    <tr style=\"text-align: right;\">\n",
       "      <th></th>\n",
       "      <th>strike_price</th>\n",
       "      <th>best_bid</th>\n",
       "      <th>best_offer</th>\n",
       "      <th>volume</th>\n",
       "      <th>open_interest</th>\n",
       "      <th>date_ndiff</th>\n",
       "      <th>treasury_rate</th>\n",
       "      <th>closing_price</th>\n",
       "      <th>sigma_20</th>\n",
       "      <th>black_scholes_pred</th>\n",
       "    </tr>\n",
       "    <tr>\n",
       "      <th>date</th>\n",
       "      <th></th>\n",
       "      <th></th>\n",
       "      <th></th>\n",
       "      <th></th>\n",
       "      <th></th>\n",
       "      <th></th>\n",
       "      <th></th>\n",
       "      <th></th>\n",
       "      <th></th>\n",
       "      <th></th>\n",
       "    </tr>\n",
       "  </thead>\n",
       "  <tbody>\n",
       "    <tr>\n",
       "      <th>20171229</th>\n",
       "      <td>2950000</td>\n",
       "      <td>282.3</td>\n",
       "      <td>285.0</td>\n",
       "      <td>0</td>\n",
       "      <td>0</td>\n",
       "      <td>367</td>\n",
       "      <td>1.76</td>\n",
       "      <td>2673.61</td>\n",
       "      <td>0.003498</td>\n",
       "      <td>224.644711</td>\n",
       "    </tr>\n",
       "    <tr>\n",
       "      <th>20171229</th>\n",
       "      <td>3000000</td>\n",
       "      <td>321.8</td>\n",
       "      <td>324.7</td>\n",
       "      <td>0</td>\n",
       "      <td>22</td>\n",
       "      <td>367</td>\n",
       "      <td>1.76</td>\n",
       "      <td>2673.61</td>\n",
       "      <td>0.003498</td>\n",
       "      <td>273.767672</td>\n",
       "    </tr>\n",
       "    <tr>\n",
       "      <th>20171229</th>\n",
       "      <td>3050000</td>\n",
       "      <td>364.7</td>\n",
       "      <td>367.6</td>\n",
       "      <td>0</td>\n",
       "      <td>0</td>\n",
       "      <td>367</td>\n",
       "      <td>1.76</td>\n",
       "      <td>2673.61</td>\n",
       "      <td>0.003498</td>\n",
       "      <td>322.890633</td>\n",
       "    </tr>\n",
       "    <tr>\n",
       "      <th>20171229</th>\n",
       "      <td>3100000</td>\n",
       "      <td>399.3</td>\n",
       "      <td>419.6</td>\n",
       "      <td>0</td>\n",
       "      <td>0</td>\n",
       "      <td>367</td>\n",
       "      <td>1.76</td>\n",
       "      <td>2673.61</td>\n",
       "      <td>0.003498</td>\n",
       "      <td>372.013595</td>\n",
       "    </tr>\n",
       "    <tr>\n",
       "      <th>20171229</th>\n",
       "      <td>3200000</td>\n",
       "      <td>493.8</td>\n",
       "      <td>513.5</td>\n",
       "      <td>0</td>\n",
       "      <td>0</td>\n",
       "      <td>367</td>\n",
       "      <td>1.76</td>\n",
       "      <td>2673.61</td>\n",
       "      <td>0.003498</td>\n",
       "      <td>470.259517</td>\n",
       "    </tr>\n",
       "  </tbody>\n",
       "</table>\n",
       "</div>"
      ],
      "text/plain": [
       "          strike_price  best_bid  best_offer  volume  open_interest  \\\n",
       "date                                                                  \n",
       "20171229       2950000     282.3       285.0       0              0   \n",
       "20171229       3000000     321.8       324.7       0             22   \n",
       "20171229       3050000     364.7       367.6       0              0   \n",
       "20171229       3100000     399.3       419.6       0              0   \n",
       "20171229       3200000     493.8       513.5       0              0   \n",
       "\n",
       "          date_ndiff  treasury_rate  closing_price  sigma_20  \\\n",
       "date                                                           \n",
       "20171229         367           1.76        2673.61  0.003498   \n",
       "20171229         367           1.76        2673.61  0.003498   \n",
       "20171229         367           1.76        2673.61  0.003498   \n",
       "20171229         367           1.76        2673.61  0.003498   \n",
       "20171229         367           1.76        2673.61  0.003498   \n",
       "\n",
       "          black_scholes_pred  \n",
       "date                          \n",
       "20171229          224.644711  \n",
       "20171229          273.767672  \n",
       "20171229          322.890633  \n",
       "20171229          372.013595  \n",
       "20171229          470.259517  "
      ]
     },
     "execution_count": 15,
     "metadata": {},
     "output_type": "execute_result"
    }
   ],
   "source": [
    "options_df_new_put.tail()"
   ]
  },
  {
   "cell_type": "code",
   "execution_count": 31,
   "metadata": {},
   "outputs": [],
   "source": [
    "bid_ask_avg = np.mean([options_df_new_put.best_bid, options_df_new_put.best_offer],axis=0)\n",
    "# np.abs(bid_ask_avg - options_df_new_put.black_scholes_pred)"
   ]
  },
  {
   "cell_type": "code",
   "execution_count": 32,
   "metadata": {},
   "outputs": [
    {
     "data": {
      "text/plain": [
       "array([  5.5625,  10.9375,   9.75  , ..., 366.15  , 409.45  , 503.65  ])"
      ]
     },
     "execution_count": 32,
     "metadata": {},
     "output_type": "execute_result"
    }
   ],
   "source": [
    "bid_ask_avg"
   ]
  },
  {
   "cell_type": "code",
   "execution_count": 33,
   "metadata": {},
   "outputs": [],
   "source": [
    "pred = options_df_new_put.black_scholes_pred"
   ]
  },
  {
   "cell_type": "code",
   "execution_count": 35,
   "metadata": {},
   "outputs": [
    {
     "data": {
      "text/plain": [
       "('rmse', 35.06335875243403)"
      ]
     },
     "execution_count": 35,
     "metadata": {},
     "output_type": "execute_result"
    }
   ],
   "source": [
    "'rmse', np.sqrt(np.mean(np.square(bid_ask_avg-pred)))"
   ]
  },
  {
   "cell_type": "code",
   "execution_count": 36,
   "metadata": {},
   "outputs": [
    {
     "data": {
      "text/plain": [
       "('med-err', 4.4375)"
      ]
     },
     "execution_count": 36,
     "metadata": {},
     "output_type": "execute_result"
    }
   ],
   "source": [
    "'med-err', np.median(bid_ask_avg-pred)"
   ]
  },
  {
   "cell_type": "code",
   "execution_count": 37,
   "metadata": {},
   "outputs": [
    {
     "data": {
      "text/plain": [
       "('avg-abs-err', 17.08568020404199)"
      ]
     },
     "execution_count": 37,
     "metadata": {},
     "output_type": "execute_result"
    }
   ],
   "source": [
    "'avg-abs-err', np.mean(np.abs(bid_ask_avg-pred))"
   ]
  },
  {
   "cell_type": "code",
   "execution_count": 38,
   "metadata": {},
   "outputs": [
    {
     "data": {
      "text/plain": [
       "('med abs dev', 4.449999999999999)"
      ]
     },
     "execution_count": 38,
     "metadata": {},
     "output_type": "execute_result"
    }
   ],
   "source": [
    "'med abs dev', np.median(np.abs(bid_ask_avg-pred))"
   ]
  },
  {
   "cell_type": "code",
   "execution_count": 39,
   "metadata": {},
   "outputs": [],
   "source": [
    "diff = (bid_ask_avg - pred) / bid_ask_avg"
   ]
  },
  {
   "cell_type": "code",
   "execution_count": 43,
   "metadata": {},
   "outputs": [
    {
     "data": {
      "text/plain": [
       "('rmse percent', 85.65289289875021)"
      ]
     },
     "execution_count": 43,
     "metadata": {},
     "output_type": "execute_result"
    }
   ],
   "source": [
    "'percents'\n",
    "\n",
    "'rmse percent', np.sqrt(np.mean(np.square(diff))) * 100"
   ]
  },
  {
   "cell_type": "code",
   "execution_count": 44,
   "metadata": {},
   "outputs": [
    {
     "data": {
      "text/plain": [
       "('med err percent', 100.0)"
      ]
     },
     "execution_count": 44,
     "metadata": {},
     "output_type": "execute_result"
    }
   ],
   "source": [
    "'med err percent', np.median(diff) * 100"
   ]
  },
  {
   "cell_type": "code",
   "execution_count": 46,
   "metadata": {},
   "outputs": [
    {
     "data": {
      "text/plain": [
       "('average abs err percent', 76.0467406593385)"
      ]
     },
     "execution_count": 46,
     "metadata": {},
     "output_type": "execute_result"
    }
   ],
   "source": [
    "'average abs err percent', np.mean(np.abs(diff))*100"
   ]
  },
  {
   "cell_type": "code",
   "execution_count": 47,
   "metadata": {},
   "outputs": [
    {
     "data": {
      "text/plain": [
       "('med abs err percent', 100.0)"
      ]
     },
     "execution_count": 47,
     "metadata": {},
     "output_type": "execute_result"
    }
   ],
   "source": [
    "'med abs err percent', np.median(np.abs(diff))*100"
   ]
  },
  {
   "cell_type": "code",
   "execution_count": null,
   "metadata": {},
   "outputs": [],
   "source": []
  }
 ],
 "metadata": {
  "kernelspec": {
   "display_name": "Python 3",
   "language": "python",
   "name": "python3"
  },
  "language_info": {
   "codemirror_mode": {
    "name": "ipython",
    "version": 3
   },
   "file_extension": ".py",
   "mimetype": "text/x-python",
   "name": "python",
   "nbconvert_exporter": "python",
   "pygments_lexer": "ipython3",
   "version": "3.7.1"
  }
 },
 "nbformat": 4,
 "nbformat_minor": 2
}
