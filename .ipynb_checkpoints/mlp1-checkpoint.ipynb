{
 "cells": [
  {
   "cell_type": "code",
   "execution_count": 1,
   "metadata": {},
   "outputs": [
    {
     "name": "stderr",
     "output_type": "stream",
     "text": [
      "Using TensorFlow backend.\n"
     ]
    }
   ],
   "source": [
    "from keras.models import Sequential\n",
    "from keras.layers import Dense, Activation, LeakyReLU\n",
    "from keras import backend\n",
    "from keras.callbacks import TensorBoard\n",
    "from keras.optimizers import Adam\n",
    "import pandas as pd\n",
    "import numpy as np\n",
    "from sklearn.model_selection import train_test_split"
   ]
  },
  {
   "cell_type": "code",
   "execution_count": 2,
   "metadata": {},
   "outputs": [],
   "source": [
    "# Hyperparams\n",
    "n_units = 400\n",
    "layers = 4\n",
    "n_batch = 1024\n",
    "n_epochs = 200"
   ]
  },
  {
   "cell_type": "code",
   "execution_count": null,
   "metadata": {},
   "outputs": [],
   "source": [
    "df = pd.read_csv('options-df-sigma.csv')\n",
    "df = df.dropna(axis=0)\n",
    "df = df.drop(columns=['date', 'exdate', 'impl_volatility'])\n",
    "df.strike_price = df.strike_price / 1000\n",
    "call_df = df[df.cp_flag == 'C'].drop(['cp_flag'], axis=1)\n",
    "put_df = df[df.cp_flag == 'P'].drop(['cp_flag'], axis=1)"
   ]
  },
  {
   "cell_type": "code",
   "execution_count": null,
   "metadata": {},
   "outputs": [],
   "source": [
    "call_df.head()"
   ]
  },
  {
   "cell_type": "code",
   "execution_count": null,
   "metadata": {},
   "outputs": [],
   "source": [
    "call_X_train, call_X_test, call_y_train, call_y_test = train_test_split(call_df.drop(['best_bid', 'best_offer'], axis=1),\n",
    "                                                                        (call_df.best_bid + call_df.best_offer) / 2,\n",
    "                                                                        test_size=0.01, random_state=42)\n",
    "put_X_train, put_X_test, put_y_train, put_y_test = train_test_split(put_df.drop(['best_bid', 'best_offer'], axis=1),\n",
    "                                                                    (put_df.best_bid + put_df.best_offer) / 2,\n",
    "                                                                    test_size=0.01, random_state=42)"
   ]
  },
  {
   "cell_type": "code",
   "execution_count": 12,
   "metadata": {},
   "outputs": [
    {
     "name": "stdout",
     "output_type": "stream",
     "text": [
      "WARNING:tensorflow:From C:\\Users\\Alex Ke\\Anaconda3\\lib\\site-packages\\tensorflow\\python\\framework\\op_def_library.py:263: colocate_with (from tensorflow.python.framework.ops) is deprecated and will be removed in a future version.\n",
      "Instructions for updating:\n",
      "Colocations handled automatically by placer.\n"
     ]
    }
   ],
   "source": [
    "model = Sequential()\n",
    "model.add(Dense(n_units, input_dim=call_X_train.shape[1]))\n",
    "model.add(LeakyReLU())\n",
    "\n",
    "for _ in range(layers - 1):\n",
    "    model.add(Dense(n_units))\n",
    "    model.add(LeakyReLU())\n",
    "\n",
    "model.add(Dense(1, activation='relu'))\n",
    "\n",
    "model.compile(loss='mse', optimizer=Adam(lr=0.00001))"
   ]
  },
  {
   "cell_type": "code",
   "execution_count": 13,
   "metadata": {},
   "outputs": [
    {
     "name": "stdout",
     "output_type": "stream",
     "text": [
      "_________________________________________________________________\n",
      "Layer (type)                 Output Shape              Param #   \n",
      "=================================================================\n",
      "dense_1 (Dense)              (None, 400)               3200      \n",
      "_________________________________________________________________\n",
      "leaky_re_lu_1 (LeakyReLU)    (None, 400)               0         \n",
      "_________________________________________________________________\n",
      "dense_2 (Dense)              (None, 400)               160400    \n",
      "_________________________________________________________________\n",
      "leaky_re_lu_2 (LeakyReLU)    (None, 400)               0         \n",
      "_________________________________________________________________\n",
      "dense_3 (Dense)              (None, 400)               160400    \n",
      "_________________________________________________________________\n",
      "leaky_re_lu_3 (LeakyReLU)    (None, 400)               0         \n",
      "_________________________________________________________________\n",
      "dense_4 (Dense)              (None, 400)               160400    \n",
      "_________________________________________________________________\n",
      "leaky_re_lu_4 (LeakyReLU)    (None, 400)               0         \n",
      "_________________________________________________________________\n",
      "dense_5 (Dense)              (None, 1)                 401       \n",
      "=================================================================\n",
      "Total params: 484,801\n",
      "Trainable params: 484,801\n",
      "Non-trainable params: 0\n",
      "_________________________________________________________________\n"
     ]
    }
   ],
   "source": [
    "model.summary()"
   ]
  },
  {
   "cell_type": "code",
   "execution_count": null,
   "metadata": {},
   "outputs": [
    {
     "name": "stdout",
     "output_type": "stream",
     "text": [
      "WARNING:tensorflow:From C:\\Users\\Alex Ke\\Anaconda3\\lib\\site-packages\\tensorflow\\python\\ops\\math_ops.py:3066: to_int32 (from tensorflow.python.ops.math_ops) is deprecated and will be removed in a future version.\n",
      "Instructions for updating:\n",
      "Use tf.cast instead.\n",
      "Train on 5001241 samples, validate on 50518 samples\n",
      "Epoch 1/200\n",
      "5001241/5001241 [==============================] - 197s 39us/step - loss: 1235.0702 - val_loss: 1585.3726\n",
      "Epoch 2/200\n",
      "5001241/5001241 [==============================] - 911s 182us/step - loss: 233.3297 - val_loss: 102.6705\n",
      "Epoch 3/200\n",
      "5001241/5001241 [==============================] - 219s 44us/step - loss: 153.7220 - val_loss: 112.3740\n",
      "Epoch 4/200\n",
      "5001241/5001241 [==============================] - 221s 44us/step - loss: 610.0022 - val_loss: 269.1296 0s - loss: 61\n",
      "Epoch 5/200\n",
      "5001241/5001241 [==============================] - 214s 43us/step - loss: 227.1573 - val_loss: 172.7446\n",
      "Epoch 6/200\n",
      "5001241/5001241 [==============================] - 219s 44us/step - loss: 138.0977 - val_loss: 98.3258\n",
      "Epoch 7/200\n",
      "5001241/5001241 [==============================] - 224s 45us/step - loss: 103.2892 - val_loss: 147.3225\n",
      "Epoch 8/200\n",
      "1681408/5001241 [=========>....................] - ETA: 2:31 - loss: 91.1478"
     ]
    }
   ],
   "source": [
    "# with learning rate 0.0001\n",
    "history = model.fit(call_X_train, call_y_train, \n",
    "                    batch_size=n_batch, epochs=n_epochs, \n",
    "                    validation_split = 0.01,\n",
    "                    callbacks=[TensorBoard()],\n",
    "                    verbose=1)"
   ]
  },
  {
   "cell_type": "code",
   "execution_count": null,
   "metadata": {},
   "outputs": [],
   "source": []
  }
 ],
 "metadata": {
  "kernelspec": {
   "display_name": "Python 3",
   "language": "python",
   "name": "python3"
  },
  "language_info": {
   "codemirror_mode": {
    "name": "ipython",
    "version": 3
   },
   "file_extension": ".py",
   "mimetype": "text/x-python",
   "name": "python",
   "nbconvert_exporter": "python",
   "pygments_lexer": "ipython3",
   "version": "3.7.1"
  }
 },
 "nbformat": 4,
 "nbformat_minor": 2
}
