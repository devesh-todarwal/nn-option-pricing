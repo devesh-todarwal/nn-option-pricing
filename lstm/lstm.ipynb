{
 "cells": [
  {
   "cell_type": "code",
   "execution_count": 24,
   "metadata": {},
   "outputs": [],
   "source": [
    "from keras.models import Sequential, Model\n",
    "from keras.layers import Dense, Activation, LeakyReLU, BatchNormalization, LSTM, Bidirectional, Input, Concatenate\n",
    "from keras import backend as K\n",
    "from keras.callbacks import TensorBoard\n",
    "from keras.optimizers import Adam\n",
    "from keras.utils import plot_model\n",
    "import pandas as pd\n",
    "import numpy as np\n",
    "from sklearn.model_selection import train_test_split"
   ]
  },
  {
   "cell_type": "code",
   "execution_count": 25,
   "metadata": {},
   "outputs": [],
   "source": [
    "layers = 4\n",
    "n_timesteps = 60\n",
    "features = 4\n",
    "n_batch = 4096\n",
    "n_epochs = 100"
   ]
  },
  {
   "cell_type": "code",
   "execution_count": 26,
   "metadata": {},
   "outputs": [],
   "source": [
    "def make_model():\n",
    "    close_history = Input((n_timesteps, 1))\n",
    "    input2 = Input((features,))\n",
    "    \n",
    "    lstm = Sequential()\n",
    "    lstm.add(LSTM(units=4, input_shape=(n_timesteps, 1), return_sequences=True))\n",
    "    lstm.add(LSTM(units=4, return_sequences=True))\n",
    "    lstm.add(LSTM(units=4, return_sequences=True))\n",
    "    lstm.add(LSTM(units=4, return_sequences=False))\n",
    "    input1 = lstm(close_history)\n",
    "    \n",
    "    connect = Concatenate()([input1, input2])\n",
    "    \n",
    "    for _ in range(layers - 1):\n",
    "        connect = Dense(100)(connect)\n",
    "        connect = BatchNormalization()(connect)\n",
    "        connect = LeakyReLU()(connect)\n",
    "    \n",
    "    predict = Dense(1, activation='relu')(connect)\n",
    "\n",
    "    return Model(inputs=[close_history, input2], outputs=predict)"
   ]
  },
  {
   "cell_type": "code",
   "execution_count": 27,
   "metadata": {},
   "outputs": [],
   "source": [
    "model = make_model()"
   ]
  },
  {
   "cell_type": "code",
   "execution_count": 28,
   "metadata": {},
   "outputs": [
    {
     "output_type": "stream",
     "name": "stdout",
     "text": [
      "Model: \"model_2\"\n__________________________________________________________________________________________________\nLayer (type)                    Output Shape         Param #     Connected to                     \n==================================================================================================\ninput_5 (InputLayer)            [(None, 60, 1)]      0                                            \n__________________________________________________________________________________________________\nsequential_2 (Sequential)       (None, 4)            528         input_5[0][0]                    \n__________________________________________________________________________________________________\ninput_6 (InputLayer)            [(None, 4)]          0                                            \n__________________________________________________________________________________________________\nconcatenate_2 (Concatenate)     (None, 8)            0           sequential_2[0][0]               \n                                                                 input_6[0][0]                    \n__________________________________________________________________________________________________\ndense_8 (Dense)                 (None, 100)          900         concatenate_2[0][0]              \n__________________________________________________________________________________________________\nbatch_normalization_6 (BatchNor (None, 100)          400         dense_8[0][0]                    \n__________________________________________________________________________________________________\nleaky_re_lu_6 (LeakyReLU)       (None, 100)          0           batch_normalization_6[0][0]      \n__________________________________________________________________________________________________\ndense_9 (Dense)                 (None, 100)          10100       leaky_re_lu_6[0][0]              \n__________________________________________________________________________________________________\nbatch_normalization_7 (BatchNor (None, 100)          400         dense_9[0][0]                    \n__________________________________________________________________________________________________\nleaky_re_lu_7 (LeakyReLU)       (None, 100)          0           batch_normalization_7[0][0]      \n__________________________________________________________________________________________________\ndense_10 (Dense)                (None, 100)          10100       leaky_re_lu_7[0][0]              \n__________________________________________________________________________________________________\nbatch_normalization_8 (BatchNor (None, 100)          400         dense_10[0][0]                   \n__________________________________________________________________________________________________\nleaky_re_lu_8 (LeakyReLU)       (None, 100)          0           batch_normalization_8[0][0]      \n__________________________________________________________________________________________________\ndense_11 (Dense)                (None, 1)            101         leaky_re_lu_8[0][0]              \n==================================================================================================\nTotal params: 22,929\nTrainable params: 22,329\nNon-trainable params: 600\n__________________________________________________________________________________________________\n"
     ]
    }
   ],
   "source": [
    "model.summary()"
   ]
  },
  {
   "cell_type": "code",
   "execution_count": 29,
   "metadata": {},
   "outputs": [],
   "source": [
    "model.compile(loss='mse', optimizer=Adam())"
   ]
  },
  {
   "cell_type": "code",
   "execution_count": 31,
   "metadata": {},
   "outputs": [
    {
     "name": "stdout",
     "output_type": "stream",
     "text": [
      "Train on 5001241 samples, validate on 50518 samples\n",
      "Epoch 1/100\n",
      "1699840/5001241 [=========>....................] - ETA: 5:27 - loss: 146761.3288"
     ]
    },
    {
     "ename": "KeyboardInterrupt",
     "evalue": "",
     "output_type": "error",
     "traceback": [
      "\u001b[0;31m---------------------------------------------------------------------------\u001b[0m",
      "\u001b[0;31mKeyboardInterrupt\u001b[0m                         Traceback (most recent call last)",
      "\u001b[0;32m<ipython-input-31-723c80aecd48>\u001b[0m in \u001b[0;36m<module>\u001b[0;34m()\u001b[0m\n\u001b[1;32m      4\u001b[0m                     \u001b[0mvalidation_split\u001b[0m \u001b[0;34m=\u001b[0m \u001b[0;36m0.01\u001b[0m\u001b[0;34m,\u001b[0m\u001b[0;34m\u001b[0m\u001b[0m\n\u001b[1;32m      5\u001b[0m                     \u001b[0mcallbacks\u001b[0m\u001b[0;34m=\u001b[0m\u001b[0;34m[\u001b[0m\u001b[0mTensorBoard\u001b[0m\u001b[0;34m(\u001b[0m\u001b[0;34m)\u001b[0m\u001b[0;34m]\u001b[0m\u001b[0;34m,\u001b[0m\u001b[0;34m\u001b[0m\u001b[0m\n\u001b[0;32m----> 6\u001b[0;31m                     verbose=1)\n\u001b[0m",
      "\u001b[0;32m~/anaconda3/envs/tensorflow_p36/lib/python3.6/site-packages/keras/engine/training.py\u001b[0m in \u001b[0;36mfit\u001b[0;34m(self, x, y, batch_size, epochs, verbose, callbacks, validation_split, validation_data, shuffle, class_weight, sample_weight, initial_epoch, steps_per_epoch, validation_steps, **kwargs)\u001b[0m\n\u001b[1;32m   1037\u001b[0m                                         \u001b[0minitial_epoch\u001b[0m\u001b[0;34m=\u001b[0m\u001b[0minitial_epoch\u001b[0m\u001b[0;34m,\u001b[0m\u001b[0;34m\u001b[0m\u001b[0m\n\u001b[1;32m   1038\u001b[0m                                         \u001b[0msteps_per_epoch\u001b[0m\u001b[0;34m=\u001b[0m\u001b[0msteps_per_epoch\u001b[0m\u001b[0;34m,\u001b[0m\u001b[0;34m\u001b[0m\u001b[0m\n\u001b[0;32m-> 1039\u001b[0;31m                                         validation_steps=validation_steps)\n\u001b[0m\u001b[1;32m   1040\u001b[0m \u001b[0;34m\u001b[0m\u001b[0m\n\u001b[1;32m   1041\u001b[0m     def evaluate(self, x=None, y=None,\n",
      "\u001b[0;32m~/anaconda3/envs/tensorflow_p36/lib/python3.6/site-packages/keras/engine/training_arrays.py\u001b[0m in \u001b[0;36mfit_loop\u001b[0;34m(model, f, ins, out_labels, batch_size, epochs, verbose, callbacks, val_f, val_ins, shuffle, callback_metrics, initial_epoch, steps_per_epoch, validation_steps)\u001b[0m\n\u001b[1;32m    197\u001b[0m                     \u001b[0mins_batch\u001b[0m\u001b[0;34m[\u001b[0m\u001b[0mi\u001b[0m\u001b[0;34m]\u001b[0m \u001b[0;34m=\u001b[0m \u001b[0mins_batch\u001b[0m\u001b[0;34m[\u001b[0m\u001b[0mi\u001b[0m\u001b[0;34m]\u001b[0m\u001b[0;34m.\u001b[0m\u001b[0mtoarray\u001b[0m\u001b[0;34m(\u001b[0m\u001b[0;34m)\u001b[0m\u001b[0;34m\u001b[0m\u001b[0m\n\u001b[1;32m    198\u001b[0m \u001b[0;34m\u001b[0m\u001b[0m\n\u001b[0;32m--> 199\u001b[0;31m                 \u001b[0mouts\u001b[0m \u001b[0;34m=\u001b[0m \u001b[0mf\u001b[0m\u001b[0;34m(\u001b[0m\u001b[0mins_batch\u001b[0m\u001b[0;34m)\u001b[0m\u001b[0;34m\u001b[0m\u001b[0m\n\u001b[0m\u001b[1;32m    200\u001b[0m                 \u001b[0mouts\u001b[0m \u001b[0;34m=\u001b[0m \u001b[0mto_list\u001b[0m\u001b[0;34m(\u001b[0m\u001b[0mouts\u001b[0m\u001b[0;34m)\u001b[0m\u001b[0;34m\u001b[0m\u001b[0m\n\u001b[1;32m    201\u001b[0m                 \u001b[0;32mfor\u001b[0m \u001b[0ml\u001b[0m\u001b[0;34m,\u001b[0m \u001b[0mo\u001b[0m \u001b[0;32min\u001b[0m \u001b[0mzip\u001b[0m\u001b[0;34m(\u001b[0m\u001b[0mout_labels\u001b[0m\u001b[0;34m,\u001b[0m \u001b[0mouts\u001b[0m\u001b[0;34m)\u001b[0m\u001b[0;34m:\u001b[0m\u001b[0;34m\u001b[0m\u001b[0m\n",
      "\u001b[0;32m~/anaconda3/envs/tensorflow_p36/lib/python3.6/site-packages/keras/backend/tensorflow_backend.py\u001b[0m in \u001b[0;36m__call__\u001b[0;34m(self, inputs)\u001b[0m\n\u001b[1;32m   2713\u001b[0m                 \u001b[0;32mreturn\u001b[0m \u001b[0mself\u001b[0m\u001b[0;34m.\u001b[0m\u001b[0m_legacy_call\u001b[0m\u001b[0;34m(\u001b[0m\u001b[0minputs\u001b[0m\u001b[0;34m)\u001b[0m\u001b[0;34m\u001b[0m\u001b[0m\n\u001b[1;32m   2714\u001b[0m \u001b[0;34m\u001b[0m\u001b[0m\n\u001b[0;32m-> 2715\u001b[0;31m             \u001b[0;32mreturn\u001b[0m \u001b[0mself\u001b[0m\u001b[0;34m.\u001b[0m\u001b[0m_call\u001b[0m\u001b[0;34m(\u001b[0m\u001b[0minputs\u001b[0m\u001b[0;34m)\u001b[0m\u001b[0;34m\u001b[0m\u001b[0m\n\u001b[0m\u001b[1;32m   2716\u001b[0m         \u001b[0;32melse\u001b[0m\u001b[0;34m:\u001b[0m\u001b[0;34m\u001b[0m\u001b[0m\n\u001b[1;32m   2717\u001b[0m             \u001b[0;32mif\u001b[0m \u001b[0mpy_any\u001b[0m\u001b[0;34m(\u001b[0m\u001b[0mis_tensor\u001b[0m\u001b[0;34m(\u001b[0m\u001b[0mx\u001b[0m\u001b[0;34m)\u001b[0m \u001b[0;32mfor\u001b[0m \u001b[0mx\u001b[0m \u001b[0;32min\u001b[0m \u001b[0minputs\u001b[0m\u001b[0;34m)\u001b[0m\u001b[0;34m:\u001b[0m\u001b[0;34m\u001b[0m\u001b[0m\n",
      "\u001b[0;32m~/anaconda3/envs/tensorflow_p36/lib/python3.6/site-packages/keras/backend/tensorflow_backend.py\u001b[0m in \u001b[0;36m_call\u001b[0;34m(self, inputs)\u001b[0m\n\u001b[1;32m   2673\u001b[0m             \u001b[0mfetched\u001b[0m \u001b[0;34m=\u001b[0m \u001b[0mself\u001b[0m\u001b[0;34m.\u001b[0m\u001b[0m_callable_fn\u001b[0m\u001b[0;34m(\u001b[0m\u001b[0;34m*\u001b[0m\u001b[0marray_vals\u001b[0m\u001b[0;34m,\u001b[0m \u001b[0mrun_metadata\u001b[0m\u001b[0;34m=\u001b[0m\u001b[0mself\u001b[0m\u001b[0;34m.\u001b[0m\u001b[0mrun_metadata\u001b[0m\u001b[0;34m)\u001b[0m\u001b[0;34m\u001b[0m\u001b[0m\n\u001b[1;32m   2674\u001b[0m         \u001b[0;32melse\u001b[0m\u001b[0;34m:\u001b[0m\u001b[0;34m\u001b[0m\u001b[0m\n\u001b[0;32m-> 2675\u001b[0;31m             \u001b[0mfetched\u001b[0m \u001b[0;34m=\u001b[0m \u001b[0mself\u001b[0m\u001b[0;34m.\u001b[0m\u001b[0m_callable_fn\u001b[0m\u001b[0;34m(\u001b[0m\u001b[0;34m*\u001b[0m\u001b[0marray_vals\u001b[0m\u001b[0;34m)\u001b[0m\u001b[0;34m\u001b[0m\u001b[0m\n\u001b[0m\u001b[1;32m   2676\u001b[0m         \u001b[0;32mreturn\u001b[0m \u001b[0mfetched\u001b[0m\u001b[0;34m[\u001b[0m\u001b[0;34m:\u001b[0m\u001b[0mlen\u001b[0m\u001b[0;34m(\u001b[0m\u001b[0mself\u001b[0m\u001b[0;34m.\u001b[0m\u001b[0moutputs\u001b[0m\u001b[0;34m)\u001b[0m\u001b[0;34m]\u001b[0m\u001b[0;34m\u001b[0m\u001b[0m\n\u001b[1;32m   2677\u001b[0m \u001b[0;34m\u001b[0m\u001b[0m\n",
      "\u001b[0;32m~/anaconda3/envs/tensorflow_p36/lib/python3.6/site-packages/tensorflow/python/client/session.py\u001b[0m in \u001b[0;36m__call__\u001b[0;34m(self, *args, **kwargs)\u001b[0m\n\u001b[1;32m   1456\u001b[0m         ret = tf_session.TF_SessionRunCallable(self._session._session,\n\u001b[1;32m   1457\u001b[0m                                                \u001b[0mself\u001b[0m\u001b[0;34m.\u001b[0m\u001b[0m_handle\u001b[0m\u001b[0;34m,\u001b[0m \u001b[0margs\u001b[0m\u001b[0;34m,\u001b[0m\u001b[0;34m\u001b[0m\u001b[0m\n\u001b[0;32m-> 1458\u001b[0;31m                                                run_metadata_ptr)\n\u001b[0m\u001b[1;32m   1459\u001b[0m         \u001b[0;32mif\u001b[0m \u001b[0mrun_metadata\u001b[0m\u001b[0;34m:\u001b[0m\u001b[0;34m\u001b[0m\u001b[0m\n\u001b[1;32m   1460\u001b[0m           \u001b[0mproto_data\u001b[0m \u001b[0;34m=\u001b[0m \u001b[0mtf_session\u001b[0m\u001b[0;34m.\u001b[0m\u001b[0mTF_GetBuffer\u001b[0m\u001b[0;34m(\u001b[0m\u001b[0mrun_metadata_ptr\u001b[0m\u001b[0;34m)\u001b[0m\u001b[0;34m\u001b[0m\u001b[0m\n",
      "\u001b[0;31mKeyboardInterrupt\u001b[0m: "
     ]
    }
   ],
   "source": [
    "model.compile(optimizer=Adam(lr=1e-4), loss='mse')\n",
    "history = model.fit(call_X_train, call_y_train, \n",
    "                    batch_size=n_batch, epochs=n_epochs, \n",
    "                    validation_split = 0.01,\n",
    "                    callbacks=[TensorBoard()],\n",
    "                    verbose=1)"
   ]
  },
  {
   "cell_type": "code",
   "execution_count": 2,
   "metadata": {},
   "outputs": [],
   "source": [
    "df = pd.read_csv('../options-df-sigma.csv')\n",
    "df = df.dropna(axis=0)\n",
    "df = df.drop(columns=['exdate', 'impl_volatility', 'volume', 'open_interest', 'sigma_20'])\n",
    "df.strike_price = df.strike_price / 1000\n",
    "call_df = df[df.cp_flag == 'C'].drop(['cp_flag'], axis=1)\n",
    "put_df = df[df.cp_flag == 'P'].drop(['cp_flag'], axis=1)"
   ]
  },
  {
   "cell_type": "code",
   "execution_count": 11,
   "metadata": {},
   "outputs": [],
   "source": [
    "underlying = pd.read_csv('./daily-closing-prices.csv')"
   ]
  },
  {
   "cell_type": "code",
   "execution_count": 12,
   "metadata": {},
   "outputs": [
    {
     "output_type": "error",
     "ename": "NameError",
     "evalue": "name 'df' is not defined",
     "traceback": [
      "\u001b[0;31m---------------------------------------------------------------------------\u001b[0m",
      "\u001b[0;31mNameError\u001b[0m                                 Traceback (most recent call last)",
      "\u001b[0;32m<ipython-input-12-4add252522c8>\u001b[0m in \u001b[0;36m<module>\u001b[0;34m\u001b[0m\n\u001b[0;32m----> 1\u001b[0;31m \u001b[0mdf\u001b[0m\u001b[0;34m.\u001b[0m\u001b[0mtail\u001b[0m\u001b[0;34m(\u001b[0m\u001b[0;34m)\u001b[0m\u001b[0;34m\u001b[0m\u001b[0;34m\u001b[0m\u001b[0m\n\u001b[0m",
      "\u001b[0;31mNameError\u001b[0m: name 'df' is not defined"
     ]
    }
   ],
   "source": [
    "df.tail()"
   ]
  },
  {
   "cell_type": "code",
   "execution_count": 13,
   "metadata": {},
   "outputs": [
    {
     "output_type": "execute_result",
     "data": {
      "text/plain": [
       "        date   close\n",
       "0   19960102  620.73\n",
       "1   19960103  621.32\n",
       "2   19960104  617.70\n",
       "3   19960105  616.71\n",
       "4   19960108  618.46\n",
       "5   19960109  609.45\n",
       "6   19960110  598.48\n",
       "7   19960111  602.69\n",
       "8   19960112  601.81\n",
       "9   19960115  599.82\n",
       "10  19960116  608.44\n",
       "11  19960117  606.37\n",
       "12  19960118  608.24\n",
       "13  19960119  611.83\n",
       "14  19960122  613.40\n",
       "15  19960123  612.79\n",
       "16  19960124  619.96\n",
       "17  19960125  617.03\n",
       "18  19960126  621.62\n",
       "19  19960129  624.22"
      ],
      "text/html": "<div>\n<style scoped>\n    .dataframe tbody tr th:only-of-type {\n        vertical-align: middle;\n    }\n\n    .dataframe tbody tr th {\n        vertical-align: top;\n    }\n\n    .dataframe thead th {\n        text-align: right;\n    }\n</style>\n<table border=\"1\" class=\"dataframe\">\n  <thead>\n    <tr style=\"text-align: right;\">\n      <th></th>\n      <th>date</th>\n      <th>close</th>\n    </tr>\n  </thead>\n  <tbody>\n    <tr>\n      <th>0</th>\n      <td>19960102</td>\n      <td>620.73</td>\n    </tr>\n    <tr>\n      <th>1</th>\n      <td>19960103</td>\n      <td>621.32</td>\n    </tr>\n    <tr>\n      <th>2</th>\n      <td>19960104</td>\n      <td>617.70</td>\n    </tr>\n    <tr>\n      <th>3</th>\n      <td>19960105</td>\n      <td>616.71</td>\n    </tr>\n    <tr>\n      <th>4</th>\n      <td>19960108</td>\n      <td>618.46</td>\n    </tr>\n    <tr>\n      <th>5</th>\n      <td>19960109</td>\n      <td>609.45</td>\n    </tr>\n    <tr>\n      <th>6</th>\n      <td>19960110</td>\n      <td>598.48</td>\n    </tr>\n    <tr>\n      <th>7</th>\n      <td>19960111</td>\n      <td>602.69</td>\n    </tr>\n    <tr>\n      <th>8</th>\n      <td>19960112</td>\n      <td>601.81</td>\n    </tr>\n    <tr>\n      <th>9</th>\n      <td>19960115</td>\n      <td>599.82</td>\n    </tr>\n    <tr>\n      <th>10</th>\n      <td>19960116</td>\n      <td>608.44</td>\n    </tr>\n    <tr>\n      <th>11</th>\n      <td>19960117</td>\n      <td>606.37</td>\n    </tr>\n    <tr>\n      <th>12</th>\n      <td>19960118</td>\n      <td>608.24</td>\n    </tr>\n    <tr>\n      <th>13</th>\n      <td>19960119</td>\n      <td>611.83</td>\n    </tr>\n    <tr>\n      <th>14</th>\n      <td>19960122</td>\n      <td>613.40</td>\n    </tr>\n    <tr>\n      <th>15</th>\n      <td>19960123</td>\n      <td>612.79</td>\n    </tr>\n    <tr>\n      <th>16</th>\n      <td>19960124</td>\n      <td>619.96</td>\n    </tr>\n    <tr>\n      <th>17</th>\n      <td>19960125</td>\n      <td>617.03</td>\n    </tr>\n    <tr>\n      <th>18</th>\n      <td>19960126</td>\n      <td>621.62</td>\n    </tr>\n    <tr>\n      <th>19</th>\n      <td>19960129</td>\n      <td>624.22</td>\n    </tr>\n  </tbody>\n</table>\n</div>"
     },
     "metadata": {},
     "execution_count": 13
    }
   ],
   "source": [
    "underlying.head(20)"
   ]
  },
  {
   "cell_type": "code",
   "execution_count": 14,
   "metadata": {},
   "outputs": [],
   "source": [
    "padded = np.insert(underlying.close.values, 0, np.array([np.nan] * n_timesteps))"
   ]
  },
  {
   "cell_type": "code",
   "execution_count": 15,
   "metadata": {},
   "outputs": [],
   "source": [
    "rolled = np.column_stack([np.roll(padded, i) for i in range(n_timesteps)])"
   ]
  },
  {
   "cell_type": "code",
   "execution_count": 16,
   "metadata": {},
   "outputs": [],
   "source": [
    "rolled = rolled[~np.isnan(rolled).any(axis=1)]"
   ]
  },
  {
   "cell_type": "code",
   "execution_count": 17,
   "metadata": {},
   "outputs": [
    {
     "output_type": "execute_result",
     "data": {
      "text/plain": [
       "(5480, 60)"
      ]
     },
     "metadata": {},
     "execution_count": 17
    }
   ],
   "source": [
    "rolled.shape"
   ]
  },
  {
   "cell_type": "code",
   "execution_count": 18,
   "metadata": {},
   "outputs": [],
   "source": [
    "rolled = np.column_stack((underlying.date.values[n_timesteps - 1:], rolled))"
   ]
  },
  {
   "cell_type": "code",
   "execution_count": 19,
   "metadata": {},
   "outputs": [],
   "source": [
    "price_history = pd.DataFrame(data=rolled)"
   ]
  },
  {
   "cell_type": "code",
   "execution_count": 17,
   "metadata": {},
   "outputs": [],
   "source": [
    "joined = df.join(price_history.set_index(0), on='date')"
   ]
  },
  {
   "cell_type": "code",
   "execution_count": 18,
   "metadata": {},
   "outputs": [],
   "source": [
    "call_df = joined[joined.cp_flag == 'C'].drop(['cp_flag'], axis=1)\n",
    "put_df = joined[joined.cp_flag == 'P'].drop(['cp_flag'], axis=1)"
   ]
  },
  {
   "cell_type": "code",
   "execution_count": 19,
   "metadata": {},
   "outputs": [],
   "source": [
    "call_df = call_df.drop(columns=['date'])\n",
    "put_df = put_df.drop(columns=['date'])"
   ]
  },
  {
   "cell_type": "code",
   "execution_count": 20,
   "metadata": {},
   "outputs": [],
   "source": [
    "call_X_train, call_X_test, call_y_train, call_y_test = train_test_split(call_df.drop(['best_bid', 'best_offer'], axis=1).values,\n",
    "                                                                        ((call_df.best_bid + call_df.best_offer) / 2).values,\n",
    "                                                                        test_size=0.01, random_state=42)\n",
    "put_X_train, put_X_test, put_y_train, put_y_test = train_test_split(put_df.drop(['best_bid', 'best_offer'], axis=1).values,\n",
    "                                                                    ((put_df.best_bid + put_df.best_offer) / 2).values,\n",
    "                                                                    test_size=0.01, random_state=42)"
   ]
  },
  {
   "cell_type": "code",
   "execution_count": 21,
   "metadata": {},
   "outputs": [],
   "source": [
    "call_X_train = [call_X_train[:, -n_timesteps:].reshape(call_X_train.shape[0], n_timesteps, 1), call_X_train[:, :4]]\n",
    "call_X_test = [call_X_test[:, -n_timesteps:].reshape(call_X_test.shape[0], n_timesteps, 1), call_X_test[:, :4]]\n",
    "put_X_train = [put_X_train[:, -n_timesteps:].reshape(put_X_train.shape[0], n_timesteps, 1), put_X_train[:, :4]]\n",
    "put_X_test = [put_X_test[:, -n_timesteps:].reshape(put_X_test.shape[0], n_timesteps, 1), put_X_test[:, :4]]"
   ]
  },
  {
   "cell_type": "code",
   "execution_count": 22,
   "metadata": {},
   "outputs": [],
   "source": [
    "# model.compile(loss='mse', optimizer=Adam(lr=1e-7))\n",
    "# history = model.fit(call_X_train, call_y_train, \n",
    "#                     batch_size=n_batch, epochs=n_epochs, \n",
    "#                     validation_split = 0.01,\n",
    "#                     callbacks=[TensorBoard()],\n",
    "#                     verbose=1)"
   ]
  },
  {
   "cell_type": "code",
   "execution_count": 20,
   "metadata": {},
   "outputs": [],
   "source": [
    "def generate_lstm_model():\n",
    "    close_history = Input((n_timesteps, 1))\n",
    "    input2 = Input((features,))\n",
    "    \n",
    "    lstm = Sequential()\n",
    "    lstm.add(Bidirectional(LSTM(units=8, input_shape=(n_timesteps, 1), return_sequences=True)))\n",
    "    lstm.add(Bidirectional(LSTM(units=8, return_sequences=True)))\n",
    "    lstm.add(Bidirectional(LSTM(units=8, return_sequences=True)))\n",
    "    lstm.add(Bidirectional(LSTM(units=8, return_sequences=False)))\n",
    "    input1 = lstm(close_history)\n",
    "    \n",
    "    connect = Concatenate()([input1, input2])\n",
    "    \n",
    "    for _ in range(layers - 1):\n",
    "        connect = Dense(100)(connect)\n",
    "        connect = BatchNormalization()(connect)\n",
    "        connect = LeakyReLU()(connect)\n",
    "    \n",
    "    predict = Dense(1, activation='relu')(connect)\n",
    "\n",
    "    return Model(inputs=[close_history, input2], outputs=predict)"
   ]
  },
  {
   "cell_type": "code",
   "execution_count": 21,
   "metadata": {},
   "outputs": [],
   "source": [
    "lstm_model = generate_lstm_model()"
   ]
  },
  {
   "cell_type": "code",
   "execution_count": 22,
   "metadata": {},
   "outputs": [
    {
     "output_type": "stream",
     "name": "stdout",
     "text": [
      "Model: \"model_1\"\n__________________________________________________________________________________________________\nLayer (type)                    Output Shape         Param #     Connected to                     \n==================================================================================================\ninput_3 (InputLayer)            [(None, 60, 1)]      0                                            \n__________________________________________________________________________________________________\nsequential_1 (Sequential)       (None, 16)           5440        input_3[0][0]                    \n__________________________________________________________________________________________________\ninput_4 (InputLayer)            [(None, 4)]          0                                            \n__________________________________________________________________________________________________\nconcatenate_1 (Concatenate)     (None, 20)           0           sequential_1[0][0]               \n                                                                 input_4[0][0]                    \n__________________________________________________________________________________________________\ndense_4 (Dense)                 (None, 100)          2100        concatenate_1[0][0]              \n__________________________________________________________________________________________________\nbatch_normalization_3 (BatchNor (None, 100)          400         dense_4[0][0]                    \n__________________________________________________________________________________________________\nleaky_re_lu_3 (LeakyReLU)       (None, 100)          0           batch_normalization_3[0][0]      \n__________________________________________________________________________________________________\ndense_5 (Dense)                 (None, 100)          10100       leaky_re_lu_3[0][0]              \n__________________________________________________________________________________________________\nbatch_normalization_4 (BatchNor (None, 100)          400         dense_5[0][0]                    \n__________________________________________________________________________________________________\nleaky_re_lu_4 (LeakyReLU)       (None, 100)          0           batch_normalization_4[0][0]      \n__________________________________________________________________________________________________\ndense_6 (Dense)                 (None, 100)          10100       leaky_re_lu_4[0][0]              \n__________________________________________________________________________________________________\nbatch_normalization_5 (BatchNor (None, 100)          400         dense_6[0][0]                    \n__________________________________________________________________________________________________\nleaky_re_lu_5 (LeakyReLU)       (None, 100)          0           batch_normalization_5[0][0]      \n__________________________________________________________________________________________________\ndense_7 (Dense)                 (None, 1)            101         leaky_re_lu_5[0][0]              \n==================================================================================================\nTotal params: 29,041\nTrainable params: 28,441\nNon-trainable params: 600\n__________________________________________________________________________________________________\n"
     ]
    }
   ],
   "source": [
    "lstm_model.summary()"
   ]
  },
  {
   "cell_type": "code",
   "execution_count": 23,
   "metadata": {},
   "outputs": [
    {
     "output_type": "error",
     "ename": "NameError",
     "evalue": "name 'call_X_train' is not defined",
     "traceback": [
      "\u001b[0;31m---------------------------------------------------------------------------\u001b[0m",
      "\u001b[0;31mNameError\u001b[0m                                 Traceback (most recent call last)",
      "\u001b[0;32m<ipython-input-23-a00da5d4b5fc>\u001b[0m in \u001b[0;36m<module>\u001b[0;34m\u001b[0m\n\u001b[1;32m      1\u001b[0m \u001b[0mlstm_model\u001b[0m\u001b[0;34m.\u001b[0m\u001b[0mcompile\u001b[0m\u001b[0;34m(\u001b[0m\u001b[0moptimizer\u001b[0m\u001b[0;34m=\u001b[0m\u001b[0mAdam\u001b[0m\u001b[0;34m(\u001b[0m\u001b[0mlr\u001b[0m\u001b[0;34m=\u001b[0m\u001b[0;36m1e-4\u001b[0m\u001b[0;34m)\u001b[0m\u001b[0;34m,\u001b[0m \u001b[0mloss\u001b[0m\u001b[0;34m=\u001b[0m\u001b[0;34m'mse'\u001b[0m\u001b[0;34m)\u001b[0m\u001b[0;34m\u001b[0m\u001b[0;34m\u001b[0m\u001b[0m\n\u001b[0;32m----> 2\u001b[0;31m history = lstm_model.fit(call_X_train, call_y_train, \n\u001b[0m\u001b[1;32m      3\u001b[0m                     \u001b[0mbatch_size\u001b[0m\u001b[0;34m=\u001b[0m\u001b[0mn_batch\u001b[0m\u001b[0;34m,\u001b[0m \u001b[0mepochs\u001b[0m\u001b[0;34m=\u001b[0m\u001b[0mn_epochs\u001b[0m\u001b[0;34m,\u001b[0m\u001b[0;34m\u001b[0m\u001b[0;34m\u001b[0m\u001b[0m\n\u001b[1;32m      4\u001b[0m                     \u001b[0mvalidation_split\u001b[0m \u001b[0;34m=\u001b[0m \u001b[0;36m0.01\u001b[0m\u001b[0;34m,\u001b[0m\u001b[0;34m\u001b[0m\u001b[0;34m\u001b[0m\u001b[0m\n\u001b[1;32m      5\u001b[0m                     \u001b[0mcallbacks\u001b[0m\u001b[0;34m=\u001b[0m\u001b[0;34m[\u001b[0m\u001b[0mTensorBoard\u001b[0m\u001b[0;34m(\u001b[0m\u001b[0;34m)\u001b[0m\u001b[0;34m]\u001b[0m\u001b[0;34m,\u001b[0m\u001b[0;34m\u001b[0m\u001b[0;34m\u001b[0m\u001b[0m\n",
      "\u001b[0;31mNameError\u001b[0m: name 'call_X_train' is not defined"
     ]
    }
   ],
   "source": [
    "lstm_model.compile(optimizer=Adam(lr=1e-4), loss='mse')\n",
    "history = lstm_model.fit(call_X_train, call_y_train, \n",
    "                    batch_size=n_batch, epochs=n_epochs, \n",
    "                    validation_split = 0.01,\n",
    "                    callbacks=[TensorBoard()],\n",
    "                    verbose=1)"
   ]
  },
  {
   "cell_type": "code",
   "execution_count": 36,
   "metadata": {},
   "outputs": [],
   "source": []
  },
  {
   "cell_type": "code",
   "execution_count": null,
   "metadata": {},
   "outputs": [],
   "source": []
  }
 ],
 "metadata": {
  "kernelspec": {
   "display_name": "Python 3",
   "language": "python",
   "name": "python3"
  },
  "language_info": {
   "codemirror_mode": {
    "name": "ipython",
    "version": 3
   },
   "file_extension": ".py",
   "mimetype": "text/x-python",
   "name": "python",
   "nbconvert_exporter": "python",
   "pygments_lexer": "ipython3",
   "version": "3.8.5-final"
  }
 },
 "nbformat": 4,
 "nbformat_minor": 4
}